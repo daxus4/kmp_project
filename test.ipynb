{
 "cells": [
  {
   "cell_type": "markdown",
   "metadata": {},
   "source": [
    "# Tests of KMP algorithm"
   ]
  },
  {
   "cell_type": "markdown",
   "metadata": {},
   "source": [
    "This notebook contains the tests for kmp.ipynb\n",
    "\n",
    "It uses the library unittest in order to create test classes and the library import_ipynb in order to import the functions defined in kmp.ipynb"
   ]
  },
  {
   "cell_type": "code",
   "execution_count": 2,
   "metadata": {},
   "outputs": [],
   "source": [
    "import unittest\n",
    "\n",
    "import import_ipynb\n",
    "import numpy as np"
   ]
  },
  {
   "cell_type": "markdown",
   "metadata": {},
   "source": [
    "## Test of buildIndex\n",
    "The class TestBuildIndex tests the function buildIndex defined in kmp.ipynb. This class test a standard case and then it focuses on limit cases, like empty string and string which contains only one type of character."
   ]
  },
  {
   "cell_type": "code",
   "execution_count": 14,
   "metadata": {},
   "outputs": [],
   "source": [
    "from kmp import buildIndex\n",
    "\n",
    "class TestBuildIndex(unittest.TestCase):\n",
    "    \n",
    "    #Test standard case\n",
    "    def test_standard(self):\n",
    "        self.assertTrue((buildIndex(\"ABACABABA\") == np.array([-1,0,-1,1,-1,0,-1,3,-1,3], dtype = np.int32))\n",
    "                       .all())\n",
    "        \n",
    "    #Test empty pattern\n",
    "    def test_empty(self):\n",
    "        self.assertEqual(buildIndex(\"\"), np.array([0], dtype = np.int32))\n",
    "        \n",
    "    #Test one character string\n",
    "    def test_one_char(self):\n",
    "        self.assertTrue((buildIndex(\"A\") == np.array([-1,0], dtype = np.int32))\n",
    "                       .all())\n",
    "        \n",
    "    #Test string with same character\n",
    "    def test_same_char(self):\n",
    "        self.assertTrue((buildIndex(\"AAAAA\") == np.array([-1, -1, -1, -1, -1,  4], dtype=np.int32))\n",
    "                        .all())\n",
    "        \n",
    "    #Test string with different characters\n",
    "    def test_diff_char(self):\n",
    "        self.assertTrue((buildIndex(\"ABCDE\") == np.array([-1,  0,  0,  0,  0,  0], dtype=np.int32))\n",
    "                        .all())"
   ]
  },
  {
   "cell_type": "markdown",
   "metadata": {},
   "source": [
    "## Test of kmpSearch\n",
    "The class TestKmpSearch tests the function kmpSearch defined in kmp.ipynb. This class test standard cases and then it focuses on limit cases, like empty pattern and empty text."
   ]
  },
  {
   "cell_type": "code",
   "execution_count": 19,
   "metadata": {},
   "outputs": [],
   "source": [
    "from kmp import kmpSearch\n",
    "\n",
    "class TestKmpSearch(unittest.TestCase):\n",
    "    \n",
    "    #Test standard case\n",
    "    def test_standard(self):\n",
    "        self.assertEqual(kmpSearch(\"ABC ABCDAB ABCDABCDABDE\", \"ABCDABD\"), [15])\n",
    "        \n",
    "    #Test multiple occurrences\n",
    "    def test_multiple(self):\n",
    "        self.assertEqual(kmpSearch(\"ABCABC\", \"ABC\"), [0,3])\n",
    "        \n",
    "    #Test no occurences\n",
    "    def test_no_occurr(self):\n",
    "        self.assertEqual(kmpSearch(\"ABCABC\", \"ABD\"), [])\n",
    "    \n",
    "    #Test empty pattern\n",
    "    def test_empty_pattern(self):\n",
    "        self.assertEqual(kmpSearch(\"ABCABC\", \"\"), [])\n",
    "        \n",
    "    #Test empty text\n",
    "    def test_empty_text(self):\n",
    "        self.assertEqual(kmpSearch(\"\", \"DD\"), [])\n",
    "        \n",
    "    #Test one character pattern\n",
    "    def test_one_char_pattern(self):\n",
    "        self.assertEqual(kmpSearch(\"ABCABC\", \"A\"), [0,3])\n",
    "        \n",
    "    #Test one character text\n",
    "    def test_one_char_text(self):\n",
    "        self.assertEqual(kmpSearch(\"A\", \"A\"), [0])\n"
   ]
  },
  {
   "cell_type": "code",
   "execution_count": 20,
   "metadata": {},
   "outputs": [
    {
     "name": "stderr",
     "output_type": "stream",
     "text": [
      "............\n",
      "----------------------------------------------------------------------\n",
      "Ran 12 tests in 0.015s\n",
      "\n",
      "OK\n"
     ]
    }
   ],
   "source": [
    "if __name__ == '__main__':\n",
    "    unittest.main(argv=['first-arg-is-ignored'], exit=False)"
   ]
  }
 ],
 "metadata": {
  "kernelspec": {
   "display_name": "Python 3",
   "language": "python",
   "name": "python3"
  },
  "language_info": {
   "codemirror_mode": {
    "name": "ipython",
    "version": 3
   },
   "file_extension": ".py",
   "mimetype": "text/x-python",
   "name": "python",
   "nbconvert_exporter": "python",
   "pygments_lexer": "ipython3",
   "version": "3.8.5"
  }
 },
 "nbformat": 4,
 "nbformat_minor": 4
}
