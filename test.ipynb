{
 "cells": [
  {
   "cell_type": "code",
   "execution_count": 12,
   "metadata": {},
   "outputs": [],
   "source": [
    "import unittest\n",
    "\n",
    "import import_ipynb\n",
    "import numpy as np"
   ]
  },
  {
   "cell_type": "code",
   "execution_count": 13,
   "metadata": {},
   "outputs": [],
   "source": [
    "from kmp import buildIndex\n",
    "\n",
    "class TestBuildIndex(unittest.TestCase):\n",
    "    \n",
    "    #Test standard case\n",
    "    def test_standard(self):\n",
    "        self.assertTrue((buildIndex(\"ABACABABA\") == np.array([-1,0,-1,1,-1,0,-1,3,-1,3], dtype = np.int32))\n",
    "                       .all())\n",
    "        \n",
    "    #Test empty pattern\n",
    "    def test_empty(self):\n",
    "        self.assertEqual(buildIndex(\"\"), np.array([0], dtype = np.int32))\n",
    "        \n",
    "    #Test string with same character\n",
    "    def test_same_char(self):\n",
    "        self.assertTrue((buildIndex(\"AAAAA\") == np.array([-1, -1, -1, -1, -1,  4], dtype=np.int32))\n",
    "                        .all())\n",
    "        \n",
    "    #Test string with different characters\n",
    "    def test_diff_char(self):\n",
    "        self.assertTrue((buildIndex(\"ABCDE\") == np.array([-1,  0,  0,  0,  0,  0], dtype=np.int32))\n",
    "                        .all())"
   ]
  },
  {
   "cell_type": "code",
   "execution_count": 18,
   "metadata": {},
   "outputs": [],
   "source": [
    "from kmp import kmpSearch\n",
    "\n",
    "class TestKmpSearch(unittest.TestCase):\n",
    "    \n",
    "    #Test standard case\n",
    "    def test_standard(self):\n",
    "        self.assertEqual(kmpSearch(\"ABC ABCDAB ABCDABCDABDE\", \"ABCDABD\"), [15])\n",
    "        \n",
    "    #Test multiple occurrences\n",
    "    def test_multiple(self):\n",
    "        self.assertEqual(kmpSearch(\"ABCABC\", \"ABC\"), [0,3])\n",
    "        \n",
    "    #Test no occurences\n",
    "    def test_no_occurr(self):\n",
    "        self.assertEqual(kmpSearch(\"ABCABC\", \"ABD\"), [])\n"
   ]
  },
  {
   "cell_type": "code",
   "execution_count": 19,
   "metadata": {},
   "outputs": [
    {
     "name": "stderr",
     "output_type": "stream",
     "text": [
      ".......\n",
      "----------------------------------------------------------------------\n",
      "Ran 7 tests in 0.009s\n",
      "\n",
      "OK\n"
     ]
    }
   ],
   "source": [
    "if __name__ == '__main__':\n",
    "    unittest.main(argv=['first-arg-is-ignored'], exit=False)"
   ]
  }
 ],
 "metadata": {
  "kernelspec": {
   "display_name": "Python 3",
   "language": "python",
   "name": "python3"
  },
  "language_info": {
   "codemirror_mode": {
    "name": "ipython",
    "version": 3
   },
   "file_extension": ".py",
   "mimetype": "text/x-python",
   "name": "python",
   "nbconvert_exporter": "python",
   "pygments_lexer": "ipython3",
   "version": "3.8.5"
  }
 },
 "nbformat": 4,
 "nbformat_minor": 4
}
