{
 "cells": [
  {
   "cell_type": "markdown",
   "metadata": {},
   "source": [
    "# Tests of KMP algorithm"
   ]
  },
  {
   "cell_type": "markdown",
   "metadata": {},
   "source": [
    "This notebook contains the tests for kmp.ipynb\n",
    "\n",
    "It uses the library unittest in order to create test classes and the library import_ipynb in order to import the functions defined in kmp.ipynb"
   ]
  },
  {
   "cell_type": "code",
   "execution_count": 1,
   "metadata": {},
   "outputs": [],
   "source": [
    "import unittest\n",
    "\n",
    "import import_ipynb\n",
    "import numpy as np"
   ]
  },
  {
   "cell_type": "markdown",
   "metadata": {},
   "source": [
    "## Test of buildIndex\n",
    "The class TestBuildIndex tests the function buildIndex defined in kmp.ipynb. This class test a standard case and then it focuses on limit cases, like empty string and string which contains only one type of character."
   ]
  },
  {
   "cell_type": "code",
   "execution_count": 2,
   "metadata": {},
   "outputs": [
    {
     "name": "stdout",
     "output_type": "stream",
     "text": [
      "importing Jupyter notebook from kmp.ipynb\n",
      "The index of pattern \"ABADE\" is [-1  0 -1  1  0  0]\n",
      "Text : \"from the plane to the fuckin' helicopter yeah\"\n",
      "Pattern: \"he\"\n",
      "Occurences of pattern found at positions : [6, 19, 30]\n"
     ]
    }
   ],
   "source": [
    "from kmp import buildIndex\n",
    "\n",
    "class TestBuildIndex(unittest.TestCase):\n",
    "    \n",
    "    #Test standard case\n",
    "    def test_standard(self):\n",
    "        self.assertTrue((buildIndex(\"ABACABABA\") == np.array([-1,0,-1,1,-1,0,-1,3,-1,3], dtype = np.int32))\n",
    "                       .all())\n",
    "        \n",
    "    #Test empty pattern\n",
    "    def test_empty(self):\n",
    "        self.assertEqual(buildIndex(\"\"), np.array([0], dtype = np.int32))\n",
    "        \n",
    "    #Test one character string\n",
    "    def test_one_char(self):\n",
    "        self.assertTrue((buildIndex(\"A\") == np.array([-1,0], dtype = np.int32))\n",
    "                       .all())\n",
    "        \n",
    "    #Test string with same character\n",
    "    def test_same_char(self):\n",
    "        self.assertTrue((buildIndex(\"AAAAA\") == np.array([-1, -1, -1, -1, -1,  4], dtype=np.int32))\n",
    "                        .all())\n",
    "        \n",
    "    #Test string with different characters\n",
    "    def test_diff_char(self):\n",
    "        self.assertTrue((buildIndex(\"ABCDE\") == np.array([-1,  0,  0,  0,  0,  0], dtype=np.int32))\n",
    "                        .all())"
   ]
  },
  {
   "cell_type": "markdown",
   "metadata": {},
   "source": [
    "## Test of kmpSearch\n",
    "The class TestKmpSearch tests the function kmpSearch defined in kmp.ipynb. This class test standard cases and then it focuses on limit cases, like empty pattern and empty text."
   ]
  },
  {
   "cell_type": "code",
   "execution_count": 3,
   "metadata": {},
   "outputs": [],
   "source": [
    "from kmp import kmpSearch\n",
    "\n",
    "class TestKmpSearch(unittest.TestCase):\n",
    "    \n",
    "    #Test standard case\n",
    "    def test_standard(self):\n",
    "        p = \"ABCDABD\"\n",
    "        self.assertEqual(kmpSearch(\"ABC ABCDAB ABCDABCDABDE\", p, buildIndex(p)), [15])\n",
    "        \n",
    "    #Test multiple occurrences\n",
    "    def test_multiple(self):\n",
    "        p = \"ABC\"\n",
    "        self.assertEqual(kmpSearch(\"ABCABC\", p, buildIndex(p)), [0,3])\n",
    "        \n",
    "    #Test no occurences\n",
    "    def test_no_occurr(self):\n",
    "        p = \"ABD\"\n",
    "        self.assertEqual(kmpSearch(\"ABCABC\", p, buildIndex(p)), [])\n",
    "    \n",
    "    #Test empty pattern\n",
    "    def test_empty_pattern(self):\n",
    "        p =\"\"\n",
    "        self.assertEqual(kmpSearch(\"ABCABC\", p, buildIndex(p)), [])\n",
    "        \n",
    "    #Test empty text\n",
    "    def test_empty_text(self):\n",
    "        p = \"DD\"\n",
    "        self.assertEqual(kmpSearch(\"\", p, buildIndex(p)), [])\n",
    "        \n",
    "    #Test one character pattern\n",
    "    def test_one_char_pattern(self):\n",
    "        p = \"A\"\n",
    "        self.assertEqual(kmpSearch(\"ABCABC\", p, buildIndex(p)), [0,3])\n",
    "        \n",
    "    #Test one character text\n",
    "    def test_one_char_text(self):\n",
    "        p = \"A\"\n",
    "        self.assertEqual(kmpSearch(\"A\", p, buildIndex(p)), [0])\n",
    "        \n",
    "    #Test exception with wrong index\n",
    "    def test_wrong_index(self):\n",
    "        self.assertRaises(ValueError, kmpSearch, \"AAA\", \"A\", [1,4,5])\n"
   ]
  },
  {
   "cell_type": "markdown",
   "metadata": {},
   "source": [
    "## Test of kmp\n",
    "The class TestKmp tests the function kmp defined in kmp.ipynb. This class test standard cases and then it focuses on limit cases, like empty pattern and empty text."
   ]
  },
  {
   "cell_type": "code",
   "execution_count": 4,
   "metadata": {},
   "outputs": [],
   "source": [
    "from kmp import kmp\n",
    "\n",
    "class TestKmp(unittest.TestCase):\n",
    "    \n",
    "    #Test standard case\n",
    "    def test_standard(self):\n",
    "        p = \"ABCDABD\"\n",
    "        self.assertEqual(kmp(\"ABC ABCDAB ABCDABCDABDE\", p), [15])\n",
    "        \n",
    "    #Test multiple occurrences\n",
    "    def test_multiple(self):\n",
    "        p = \"ABC\"\n",
    "        self.assertEqual(kmp(\"ABCABC\", p), [0,3])\n",
    "        \n",
    "    #Test no occurences\n",
    "    def test_no_occurr(self):\n",
    "        p = \"ABD\"\n",
    "        self.assertEqual(kmp(\"ABCABC\", p), [])\n",
    "    \n",
    "    #Test empty pattern\n",
    "    def test_empty_pattern(self):\n",
    "        p =\"\"\n",
    "        self.assertEqual(kmp(\"ABCABC\", p), [])\n",
    "        \n",
    "    #Test empty text\n",
    "    def test_empty_text(self):\n",
    "        p = \"DD\"\n",
    "        self.assertEqual(kmp(\"\", p), [])\n",
    "        \n",
    "    #Test one character pattern\n",
    "    def test_one_char_pattern(self):\n",
    "        p = \"A\"\n",
    "        self.assertEqual(kmp(\"ABCABC\", p), [0,3])\n",
    "        \n",
    "    #Test one character text\n",
    "    def test_one_char_text(self):\n",
    "        p = \"A\"\n",
    "        self.assertEqual(kmp(\"A\", p), [0])\n",
    "        "
   ]
  },
  {
   "cell_type": "markdown",
   "metadata": {},
   "source": [
    "## Test of kmpParallelized\n",
    "The class TestKmpParallelized tests the function kmpParallelized defined in kmp.ipynb. This class test standard cases and then it focuses on limit cases, like zero processes."
   ]
  },
  {
   "cell_type": "code",
   "execution_count": 5,
   "metadata": {},
   "outputs": [],
   "source": [
    "from kmp import kmpParallelized\n",
    "from math import floor\n",
    "\n",
    "class TestKmpParallelized(unittest.TestCase):\n",
    "    \n",
    "    #Test standard case\n",
    "    def test_standard(self):\n",
    "        p = \"ABC\"\n",
    "        self.assertEqual(kmpParallelized(\"ABC ABDAB ABCDABCDABDE\", p, 2), [0,10,14])\n",
    "        \n",
    "    #Test all processes return at least one occurrence\n",
    "    def test_each_occurr(self):\n",
    "        self.assertEqual(kmpParallelized(\"DOGCOWDOGCOWDOGCOW\", \"O\", 3), [1,4,7,10,13,16])\n",
    "        \n",
    "    #Test zero processes\n",
    "    def test_zero_thread(self):\n",
    "        p = \"ABC\"\n",
    "        self.assertRaises(ValueError, kmpParallelized, \"AAA\", \"A\", 0)\n",
    "    \n",
    "    #Test one process\n",
    "    def test_one_process(self):\n",
    "        p = \"ABCDABD\"\n",
    "        self.assertEqual(kmpParallelized(\"ABC ABCDAB ABCDABCDABDE\", p, 1), [15])\n",
    "        \n",
    "    #Test too many processes\n",
    "    def test_too_many_processes(self):\n",
    "        p = \"ABCD\"\n",
    "        text = \"ABCDFHDRTEIFKCMDIIEUFABCD\"\n",
    "        numProcess = floor(len(text)/(len(p)*2))\n",
    "        with self.assertWarnsRegex(Warning,\n",
    "                                   \"Too many useless process, current number of process = {}\".format(numProcess)):\n",
    "            self.assertEqual(kmpParallelized(text, p, 5), [0, 21])\n"
   ]
  },
  {
   "cell_type": "code",
   "execution_count": 6,
   "metadata": {},
   "outputs": [
    {
     "name": "stderr",
     "output_type": "stream",
     "text": [
      ".........................\n",
      "----------------------------------------------------------------------\n",
      "Ran 25 tests in 0.102s\n",
      "\n",
      "OK\n"
     ]
    }
   ],
   "source": [
    "if __name__ == '__main__':\n",
    "    unittest.main(argv=['first-arg-is-ignored'], exit=False)"
   ]
  }
 ],
 "metadata": {
  "kernelspec": {
   "display_name": "Python 3",
   "language": "python",
   "name": "python3"
  },
  "language_info": {
   "codemirror_mode": {
    "name": "ipython",
    "version": 3
   },
   "file_extension": ".py",
   "mimetype": "text/x-python",
   "name": "python",
   "nbconvert_exporter": "python",
   "pygments_lexer": "ipython3",
   "version": "3.8.5"
  }
 },
 "nbformat": 4,
 "nbformat_minor": 4
}
