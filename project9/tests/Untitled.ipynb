{
 "cells": [
  {
   "cell_type": "code",
   "execution_count": null,
   "metadata": {},
   "outputs": [],
   "source": [
    "import unittest\n",
    "\n",
    "class TestBuildIndex(unittest.TestCase):\n",
    "    \n",
    "    #Test standard case\n",
    "    def standard_test(self):\n",
    "        self.assertEqual(buildIndex(\"ABACABABA\"), np.array([-1,0,-1,1,-1,0,-1,3,-1,3], dtype = np.int32))\n",
    "        \n",
    "    def empty_test(self):\n",
    "        self.assertTrue(buildIndex(\"\"))"
   ]
  }
 ],
 "metadata": {
  "kernelspec": {
   "display_name": "Python 3",
   "language": "python",
   "name": "python3"
  },
  "language_info": {
   "codemirror_mode": {
    "name": "ipython",
    "version": 3
   },
   "file_extension": ".py",
   "mimetype": "text/x-python",
   "name": "python",
   "nbconvert_exporter": "python",
   "pygments_lexer": "ipython3",
   "version": "3.8.5"
  }
 },
 "nbformat": 4,
 "nbformat_minor": 4
}
