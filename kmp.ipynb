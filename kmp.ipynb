{
 "cells": [
  {
   "cell_type": "markdown",
   "metadata": {},
   "source": [
    "# Project 9\n",
    "## Knuth Morris Pratt algorithm"
   ]
  },
  {
   "cell_type": "code",
   "execution_count": 8,
   "metadata": {},
   "outputs": [],
   "source": [
    "import numpy as np\n",
    "\n",
    "#This function build the index for the pattern string, required in order to run the Knuth Morris Pratt algorithm\n",
    "def buildIndex(pattern):\n",
    "    #Create index array with one element more than pattern string\n",
    "    index = np.empty(len(pattern) + 1, dtype = np.int32)\n",
    "    len(index)\n",
    "    \n",
    "    #Initialize first element to -1\n",
    "    index[0] = -1\n",
    "    \n",
    "    cnd = 0 #Zero base index in pattern of the next character of the current substring\n",
    "    \n",
    "    for pos in range(1,len(pattern)):\n",
    "        if pattern[pos] == pattern[cnd]:\n",
    "            index[pos] = index[cnd]\n",
    "        else:\n",
    "            index[pos] = cnd\n",
    "            while cnd >= 0 and pattern[pos] != pattern[cnd]:\n",
    "                cnd = index[cnd]\n",
    "        cnd = cnd + 1\n",
    "        \n",
    "    index[len(pattern)] = cnd\n",
    "    \n",
    "    return index"
   ]
  },
  {
   "cell_type": "code",
   "execution_count": 17,
   "metadata": {},
   "outputs": [
    {
     "data": {
      "text/plain": [
       "0"
      ]
     },
     "execution_count": 17,
     "metadata": {},
     "output_type": "execute_result"
    }
   ],
   "source": [
    "buildIndex(\"\")[0]"
   ]
  },
  {
   "cell_type": "code",
   "execution_count": 9,
   "metadata": {},
   "outputs": [],
   "source": [
    "#This function run the Knuth Morris Pratt algorithm, which finds all the occurrences of pattern in text\n",
    "def kmpSearch(text, pattern):\n",
    "    j = 0 #Position of the current character in text\n",
    "    k = 0 #Position of the current character in pattern\n",
    "    index = buildIndex(pattern) #Index of pattern\n",
    "    \n",
    "    occList = [] #List of positions of occurrences in which pattern is found in text.\n",
    "    \n",
    "    while j < len(text):\n",
    "        if pattern[k] == text[j]:\n",
    "            j = j+1\n",
    "            k = k+1\n",
    "            if k == len(pattern):\n",
    "                occList.append(j-k)\n",
    "                k = index[k]\n",
    "        else:\n",
    "            k = index[k]\n",
    "            if k < 0 :\n",
    "                j = j+1\n",
    "                k = k+1\n",
    "    return occList"
   ]
  }
 ],
 "metadata": {
  "kernelspec": {
   "display_name": "Python 3",
   "language": "python",
   "name": "python3"
  },
  "language_info": {
   "codemirror_mode": {
    "name": "ipython",
    "version": 3
   },
   "file_extension": ".py",
   "mimetype": "text/x-python",
   "name": "python",
   "nbconvert_exporter": "python",
   "pygments_lexer": "ipython3",
   "version": "3.8.5"
  }
 },
 "nbformat": 4,
 "nbformat_minor": 4
}
